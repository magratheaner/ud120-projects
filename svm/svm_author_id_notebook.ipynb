{
 "cells": [
  {
   "cell_type": "code",
   "execution_count": 26,
   "metadata": {
    "collapsed": false
   },
   "outputs": [
    {
     "name": "stdout",
     "output_type": "stream",
     "text": [
      "no. of Chris training emails: 7936\n",
      "no. of Sara training emails: 7884\n"
     ]
    }
   ],
   "source": [
    "#!/usr/bin/python\n",
    "\n",
    "\"\"\" \n",
    "    This is the code to accompany the Lesson 2 (SVM) mini-project.\n",
    "\n",
    "    Use a SVM to identify emails from the Enron corpus by their authors:    \n",
    "    Sara has label 0\n",
    "    Chris has label 1\n",
    "\"\"\"\n",
    "    \n",
    "import sys\n",
    "from time import time\n",
    "sys.path.append(\"../tools/\")\n",
    "from email_preprocess import preprocess\n",
    "\n",
    "\n",
    "### features_train and features_test are the features for the training\n",
    "### and testing datasets, respectively\n",
    "### labels_train and labels_test are the corresponding item labels\n",
    "features_train, features_test, labels_train, labels_test = preprocess()"
   ]
  },
  {
   "cell_type": "raw",
   "metadata": {},
   "source": [
    "# Shorten data sets to see if time improves and how accuracy behaves\n",
    "features_train = features_train[:len(features_train)/100]\n",
    "labels_train = labels_train[:len(labels_train)/100]"
   ]
  },
  {
   "cell_type": "code",
   "execution_count": 27,
   "metadata": {
    "collapsed": false
   },
   "outputs": [
    {
     "name": "stdout",
     "output_type": "stream",
     "text": [
      "Time to train:  104.587000132\n"
     ]
    }
   ],
   "source": [
    "# Train SVM\n",
    "from sklearn import svm\n",
    "import time\n",
    "\n",
    "start = time.time()\n",
    "\n",
    "classifier = svm.SVC(C=10000., kernel=\"rbf\")\n",
    "classifier.fit(features_train, labels_train)\n",
    "\n",
    "end = time.time()\n",
    "print \"Time to train: \", end - start"
   ]
  },
  {
   "cell_type": "code",
   "execution_count": 28,
   "metadata": {
    "collapsed": false
   },
   "outputs": [
    {
     "name": "stdout",
     "output_type": "stream",
     "text": [
      "Manually computed accuracy:  0.990898748578\n",
      "Time to predict and compute accuracy manually:  10.6560001373\n"
     ]
    }
   ],
   "source": [
    "# Predict new labels\n",
    "\n",
    "start = time.time()\n",
    "predictions = classifier.predict(features_test)\n",
    "\n",
    "# Compute accuracy\n",
    "correct_samples = 0\n",
    "for (prediction, label) in zip(predictions, labels_test):\n",
    "    if prediction == label: correct_samples += 1\n",
    "\n",
    "print \"Manually computed accuracy: \", correct_samples * 1. / len(labels_test)\n",
    "\n",
    "end = time.time()\n",
    "print \"Time to predict and compute accuracy manually: \", end - start"
   ]
  },
  {
   "cell_type": "code",
   "execution_count": 17,
   "metadata": {
    "collapsed": false
   },
   "outputs": [
    {
     "name": "stdout",
     "output_type": "stream",
     "text": [
      "Automatically computed accuracy:  0.616040955631\n",
      "Time to predict and compute accuracy automatically:  1.07999992371\n"
     ]
    }
   ],
   "source": [
    "start = time.time()\n",
    "\n",
    "print \"Automatically computed accuracy: \", classifier.score(features_test, labels_test)\n",
    "\n",
    "end = time.time()\n",
    "print \"Time to predict and compute accuracy automatically: \", end - start"
   ]
  },
  {
   "cell_type": "code",
   "execution_count": 29,
   "metadata": {
    "collapsed": false
   },
   "outputs": [
    {
     "name": "stdout",
     "output_type": "stream",
     "text": [
      "element 10:  1 element 26:  0 element 50:  1\n"
     ]
    }
   ],
   "source": [
    "print \"element 10: \", predictions[10], \"element 26: \", predictions[26], \"element 50: \", predictions[50]"
   ]
  },
  {
   "cell_type": "code",
   "execution_count": null,
   "metadata": {
    "collapsed": true
   },
   "outputs": [],
   "source": []
  }
 ],
 "metadata": {
  "anaconda-cloud": {},
  "kernelspec": {
   "display_name": "Python [default]",
   "language": "python",
   "name": "python2"
  },
  "language_info": {
   "codemirror_mode": {
    "name": "ipython",
    "version": 2
   },
   "file_extension": ".py",
   "mimetype": "text/x-python",
   "name": "python",
   "nbconvert_exporter": "python",
   "pygments_lexer": "ipython2",
   "version": "2.7.12"
  }
 },
 "nbformat": 4,
 "nbformat_minor": 1
}
